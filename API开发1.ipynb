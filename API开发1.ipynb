{
 "cells": [
  {
   "cell_type": "code",
   "execution_count": 1,
   "id": "de43c025-6e29-41db-aae8-e87d72ad7fd3",
   "metadata": {},
   "outputs": [],
   "source": [
    "from flask import Flask,request,jsonify"
   ]
  },
  {
   "cell_type": "code",
   "execution_count": 2,
   "id": "ca77432d-3cb0-4ce1-a30b-6a529d5b8922",
   "metadata": {},
   "outputs": [],
   "source": [
    "app=Flask(__name__)"
   ]
  },
  {
   "cell_type": "code",
   "execution_count": 3,
   "id": "4e047df1-85e4-41a0-a0a9-2f28766e978b",
   "metadata": {},
   "outputs": [],
   "source": [
    "@app.route('/index',methods=['POST','GET'])\n",
    "def index():\n",
    "    #查询字符串参数\n",
    "    age=request.args.get('age')\n",
    "    pwd=request.args.get('pwd')\n",
    "    print(age,pwd)\n",
    "    #查询表单数据\n",
    "    xx=request.form.get('xx')\n",
    "    yy=request.form.get('yy')\n",
    "    print(xx,yy)\n",
    "    #查询json格式{'xx':123,'yy':999}\n",
    "    print(request.json)\n",
    "\n",
    "    #访问通过 HTTP POST 请求发送的表单数据后，调用核心算法，返回json\n",
    "    return jsonify({'status':True,'data':'success'})"
   ]
  },
  {
   "cell_type": "code",
   "execution_count": 4,
   "id": "c3ee58f0-1f3e-4522-b398-72b141c20595",
   "metadata": {},
   "outputs": [
    {
     "name": "stdout",
     "output_type": "stream",
     "text": [
      " * Serving Flask app '__main__'\n",
      " * Debug mode: off\n"
     ]
    },
    {
     "name": "stderr",
     "output_type": "stream",
     "text": [
      "WARNING: This is a development server. Do not use it in a production deployment. Use a production WSGI server instead.\n",
      " * Running on http://127.0.0.1:5000\n",
      "Press CTRL+C to quit\n",
      "127.0.0.1 - - [25/Jan/2025 22:08:39] \"POST /index HTTP/1.1\" 200 -\n"
     ]
    },
    {
     "name": "stdout",
     "output_type": "stream",
     "text": [
      "None None\n",
      "None None\n",
      "{'xx': 123, 'yy': 999}\n"
     ]
    }
   ],
   "source": [
    "if __name__=='__main__':\n",
    "    app.run(debug=False)"
   ]
  }
 ],
 "metadata": {
  "kernelspec": {
   "display_name": "Python 3 (ipykernel)",
   "language": "python",
   "name": "python3"
  },
  "language_info": {
   "codemirror_mode": {
    "name": "ipython",
    "version": 3
   },
   "file_extension": ".py",
   "mimetype": "text/x-python",
   "name": "python",
   "nbconvert_exporter": "python",
   "pygments_lexer": "ipython3",
   "version": "3.9.13"
  }
 },
 "nbformat": 4,
 "nbformat_minor": 5
}
